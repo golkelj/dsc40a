{
 "cells": [
  {
   "cell_type": "code",
   "execution_count": 3,
   "id": "9a38ba2f",
   "metadata": {},
   "outputs": [
    {
     "data": {
      "text/plain": [
       "np.float64(62.53869683846364)"
      ]
     },
     "execution_count": 3,
     "metadata": {},
     "output_type": "execute_result"
    }
   ],
   "source": [
    "# HW 1.4e \n",
    "import numpy as np\n",
    "\n",
    "x = np.array([1, 2, 3, 4, 5])\n",
    "y = np.array([22.22, 10.23, 4.11, 1.25, 0.25])\n",
    "\n",
    "numerator = np.sum(y * np.exp(-x))\n",
    "demoninator = np.sum(np.exp(-2 * x))\n",
    "\n",
    "c = numerator / demoninator\n",
    "c "
   ]
  },
  {
   "cell_type": "code",
   "execution_count": 8,
   "id": "a88a6310",
   "metadata": {},
   "outputs": [
    {
     "data": {
      "text/plain": [
       "np.float64(2.5179630659877335e-05)"
      ]
     },
     "execution_count": 8,
     "metadata": {},
     "output_type": "execute_result"
    }
   ],
   "source": [
    "(c * np.exp(-6) - 0.15 ) ** 2# This will give the fitted values"
   ]
  },
  {
   "cell_type": "code",
   "execution_count": null,
   "id": "41f4e6ef",
   "metadata": {},
   "outputs": [
    {
     "data": {
      "text/plain": [
       "np.float64(2.0127742488532614)"
      ]
     },
     "execution_count": 9,
     "metadata": {},
     "output_type": "execute_result"
    }
   ],
   "source": [
    "# HW 1.5e\n",
    "import numpy as np\n",
    "\n",
    "x = np.array([1, 2, 3, 4, 5, 6])\n",
    "y = np.array([5.4, 14.8, 40.0, 109.2, 290.1, 815.3])\n",
    "\n",
    "numerator = np.sum(y * np.exp(x))\n",
    "demoninator = np.sum(np.exp(2 * x))\n",
    "\n",
    "c = numerator / demoninator\n",
    "c "
   ]
  },
  {
   "cell_type": "code",
   "execution_count": null,
   "id": "348de3dd",
   "metadata": {},
   "outputs": [
    {
     "data": {
      "text/plain": [
       "np.float64(62212.83974227203)"
      ]
     },
     "execution_count": 10,
     "metadata": {},
     "output_type": "execute_result"
    }
   ],
   "source": [
    "(2456.7 - c * np.exp(7)) ** 2"
   ]
  },
  {
   "cell_type": "code",
   "execution_count": 11,
   "id": "599b22fb",
   "metadata": {},
   "outputs": [
    {
     "data": {
      "text/plain": [
       "np.float64(2207.2749817234203)"
      ]
     },
     "execution_count": 11,
     "metadata": {},
     "output_type": "execute_result"
    }
   ],
   "source": [
    "c * np.exp(7)\n"
   ]
  },
  {
   "cell_type": "code",
   "execution_count": 2,
   "id": "f3442849",
   "metadata": {},
   "outputs": [
    {
     "data": {
      "text/plain": [
       "np.float64(0.6140000000000001)"
      ]
     },
     "execution_count": 2,
     "metadata": {},
     "output_type": "execute_result"
    }
   ],
   "source": [
    "# HW 1.20d \n",
    "\n",
    "import numpy as np\n",
    "\n",
    "# Data\n",
    "X = np.array([\n",
    "    [0.60, 1.21],\n",
    "    [0.70, 1.47],\n",
    "    [0.50, 0.93],\n",
    "    [0.65, 1.25],\n",
    "    [0.55, 1.11],\n",
    "    [0.72, 1.38]\n",
    "])\n",
    "\n",
    "# Direction vector\n",
    "d = np.array([1, 2])\n",
    "\n",
    "# Compute c*\n",
    "\n",
    "num = np.sum([np.dot(d, x) for x in X])\n",
    "denominator = 6 * np.dot(d, d)\n",
    "\n",
    "c_star = numerator / denominator\n",
    "c_star"
   ]
  },
  {
   "cell_type": "code",
   "execution_count": 3,
   "id": "333625b7",
   "metadata": {},
   "outputs": [
    {
     "data": {
      "text/plain": [
       "np.float64(2.9874489765515597)"
      ]
     },
     "execution_count": 3,
     "metadata": {},
     "output_type": "execute_result"
    }
   ],
   "source": [
    "import numpy as np\n",
    "\n",
    "# Field device readings (x_i)\n",
    "X = np.array([\n",
    "    [9.0, 12.0],\n",
    "    [10.5, 14.2],\n",
    "    [8.3, 11.1],\n",
    "    [11.2, 15.0],\n",
    "    [9.7, 13.0]\n",
    "])\n",
    "\n",
    "# Reference lab measurements (y_i)\n",
    "Y = np.array([\n",
    "    [27.3, 36.6],\n",
    "    [30.8, 41.4],\n",
    "    [24.7, 33.6],\n",
    "    [33.7, 45.5],\n",
    "    [28.6, 38.4]\n",
    "])\n",
    "\n",
    "numerator = sum(np.dot(X[i], Y[i]) for i in range(5))\n",
    "denominator = sum(np.dot(X[i], X[i]) for i in range(5))\n",
    "\n",
    "c_star = numerator / denominator\n",
    "c_star\n"
   ]
  },
  {
   "cell_type": "code",
   "execution_count": null,
   "id": "7c209fc2",
   "metadata": {},
   "outputs": [],
   "source": []
  }
 ],
 "metadata": {
  "kernelspec": {
   "display_name": "Python 3",
   "language": "python",
   "name": "python3"
  },
  "language_info": {
   "codemirror_mode": {
    "name": "ipython",
    "version": 3
   },
   "file_extension": ".py",
   "mimetype": "text/x-python",
   "name": "python",
   "nbconvert_exporter": "python",
   "pygments_lexer": "ipython3",
   "version": "3.13.1"
  }
 },
 "nbformat": 4,
 "nbformat_minor": 5
}
